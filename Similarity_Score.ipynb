{
 "cells": [
  {
   "cell_type": "code",
   "execution_count": 11,
   "metadata": {},
   "outputs": [
    {
     "data": {
      "text/plain": [
       "[{'artist': 'Talking Heads', 'title': 'Artists Only'},\n",
       " {'artist': 'Blake Shelton', 'title': 'Neon Light'},\n",
       " {'artist': 'Keith Urban', 'title': 'All for You'},\n",
       " {'artist': 'Charlie Puth', 'title': 'How Long'},\n",
       " {'artist': 'The Hit Crew', 'title': 'Hamster Dance'}]"
      ]
     },
     "execution_count": 11,
     "metadata": {},
     "output_type": "execute_result"
    }
   ],
   "source": [
    "import pandas as pd\n",
    "from elasticsearch import Elasticsearch, RequestsHttpConnection\n",
    "from requests_aws4auth import AWS4Auth\n",
    "import boto3\n",
    "from elasticsearch import helpers\n",
    "\n",
    "from sklearn.neighbors import NearestNeighbors\n",
    "import pickle\n",
    "# Based on the ata\n",
    "# data = pd.read_csv('Cleaned_data.csv')\n",
    "# artist_info = data[['artist','title']]\n",
    "# emotions = data[['anger','fear','joy','sadness','surprise']]\n",
    "\n",
    "closest_songs_model = NearestNeighbors(n_neighbors=5)\n",
    "closest_songs_model.fit(emotions)\n",
    "pickle.dump(closest_songs_model, open('closest_songs_model.sav', 'wb'))\n",
    "_,indecies=closest_songs_model.kneighbors([[0.17561023, 0.12503634, 0.16991208, 0.49357194, 0.03326787]])\n",
    "[dict(artist_info.iloc[row]) for  row in range(len(indecies[0]))]\n",
    "\n",
    "\n"
   ]
  },
  {
   "cell_type": "code",
   "execution_count": 2,
   "metadata": {},
   "outputs": [
    {
     "ename": "FileNotFoundError",
     "evalue": "[Errno 2] No such file or directory: 'closest_songs_model.sa'",
     "output_type": "error",
     "traceback": [
      "\u001b[0;31m---------------------------------------------------------------------------\u001b[0m",
      "\u001b[0;31mFileNotFoundError\u001b[0m                         Traceback (most recent call last)",
      "\u001b[0;32m<ipython-input-2-d56c4ce4acf7>\u001b[0m in \u001b[0;36m<module>\u001b[0;34m\u001b[0m\n\u001b[0;32m----> 1\u001b[0;31m \u001b[0mloaded_model\u001b[0m \u001b[0;34m=\u001b[0m \u001b[0mpickle\u001b[0m\u001b[0;34m.\u001b[0m\u001b[0mload\u001b[0m\u001b[0;34m(\u001b[0m\u001b[0mopen\u001b[0m\u001b[0;34m(\u001b[0m\u001b[0;34m'closest_songs_model.sa'\u001b[0m\u001b[0;34m,\u001b[0m \u001b[0;34m'rb'\u001b[0m\u001b[0;34m)\u001b[0m\u001b[0;34m)\u001b[0m\u001b[0;34m\u001b[0m\u001b[0m\n\u001b[0m\u001b[1;32m      2\u001b[0m \u001b[0;31m# result = loaded_model.score(X_test, Y_test)\u001b[0m\u001b[0;34m\u001b[0m\u001b[0;34m\u001b[0m\u001b[0m\n\u001b[1;32m      3\u001b[0m \u001b[0;31m# print(result)\u001b[0m\u001b[0;34m\u001b[0m\u001b[0;34m\u001b[0m\u001b[0m\n",
      "\u001b[0;31mFileNotFoundError\u001b[0m: [Errno 2] No such file or directory: 'closest_songs_model.sa'"
     ]
    }
   ],
   "source": [
    "\n",
    "# result = loaded_model.score(X_test, Y_test)\n",
    "# print(result)"
   ]
  },
  {
   "cell_type": "code",
   "execution_count": 12,
   "metadata": {},
   "outputs": [],
   "source": [
    "\n",
    "host = 'search-gifnote-kyl54r7f5kd3ehsewzr4i73elu.us-east-1.es.amazonaws.com' \n",
    "region = 'us-east-1' # e.g. us-west-1\n",
    "service = 'es'\n",
    "credentials = boto3.Session().get_credentials()\n",
    "awsauth = AWS4Auth(credentials.access_key, credentials.secret_key, region, service)\n",
    "es = Elasticsearch(\n",
    "    hosts = [{'host': host, 'port': 443}],\n",
    "    http_auth = awsauth,\n",
    "    use_ssl = True,\n",
    "    verify_certs = True,\n",
    "    connection_class = RequestsHttpConnection\n",
    ")\n"
   ]
  },
  {
   "cell_type": "code",
   "execution_count": 13,
   "metadata": {},
   "outputs": [],
   "source": [
    "try:\n",
    "    loaded_model = pickle.load(open('closest_songs_model.sa', 'rb'))\n",
    "except FileNotFoundError:\n",
    "    results_dictionary = es.search(index='songs',size=100)['hits']['hits']\n",
    "    data = pd.DataFrame([song['_source']['doc'] for song in results_dictionary])\n",
    "    artist_info = data[['artist','title']]\n",
    "    emotions = data[['anger','fear','joy','sadness','surprise']]\n",
    "    closest_songs_model = NearestNeighbors(n_neighbors=5)\n",
    "    closest_songs_model.fit(emotions)\n",
    "    _,indecies=closest_songs_model.kneighbors([[0.17561023, 0.12503634, 0.16991208, 0.49357194, 0.03326787]])\n",
    "    [dict(artist_info.iloc[row]) for  row in range(len(indecies[0]))]\n",
    "    "
   ]
  },
  {
   "cell_type": "code",
   "execution_count": 18,
   "metadata": {},
   "outputs": [
    {
     "data": {
      "text/plain": [
       "'last night i fell asleep and i saw you dancing in my dreams just like the autumn leaves have fall for you all for you  you changed my life you changed my ways i dont even recognize myself these days it must be a reflection of you only you  i cant remember feeling love like this in so long i cant imagine living life without you by my side day after day you find a way to make this grown man cry its so true im all for you  my arms still hold you tight keep you warm in the coldest night my hand to pull your hair right back away from your eyes for you only you  if i knew how to do it id paint the moon the stars around you paint the perfect kind of sunset but i couldnt make it more beautiful than you oh nothing compares to you you know its true  i cant remember feeling love like this in so long i cant imagine living life without you by my side day after day you find a way to make this grown man cry its so true im all for you im all for you  i cant remember feeling love like this in so long i cant imagine living life without you by my side day after day you find a way to make this grown man cry  some might call it insanity without a doubt for the rest of my life im going to be crazy baby crazy for you  all for you im all for you'"
      ]
     },
     "execution_count": 18,
     "metadata": {},
     "output_type": "execute_result"
    }
   ],
   "source": []
  }
 ],
 "metadata": {
  "kernelspec": {
   "display_name": "Python 3",
   "language": "python",
   "name": "python3"
  },
  "language_info": {
   "codemirror_mode": {
    "name": "ipython",
    "version": 3
   },
   "file_extension": ".py",
   "mimetype": "text/x-python",
   "name": "python",
   "nbconvert_exporter": "python",
   "pygments_lexer": "ipython3",
   "version": "3.5.6"
  }
 },
 "nbformat": 4,
 "nbformat_minor": 2
}
