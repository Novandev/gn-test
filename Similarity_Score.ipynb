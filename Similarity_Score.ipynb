{
 "cells": [
  {
   "cell_type": "code",
   "execution_count": 37,
   "metadata": {},
   "outputs": [
    {
     "data": {
      "text/plain": [
       "[{'artist': 'Keith Urban', 'title': 'Where the Blacktop Ends'},\n",
       " {'artist': 'Keith Urban', 'title': \"It's a Love Thing\"},\n",
       " {'artist': '6LACK', 'title': 'Glock Six (Bonus)'},\n",
       " {'artist': 'Marc E. Bassy', 'title': 'You & Me (feat. G-Eazy)'},\n",
       " {'artist': 'Talking Heads', 'title': 'Artists Only'}]"
      ]
     },
     "execution_count": 37,
     "metadata": {},
     "output_type": "execute_result"
    }
   ],
   "source": [
    "import pandas as pd\n",
    "from sklearn.neighbors import NearestNeighbors\n",
    "# Based on the ata\n",
    "data = pd.read_csv('Cleaned_data.csv')\n",
    "artist_info = data[['artist','title']]\n",
    "emotions = data[['anger','fear','joy','sadness','surprise']]\n",
    "\n",
    "closest_songs_model = NearestNeighbors(n_neighbors=5)\n",
    "closest_songs.fit(emotions)\n",
    "_,indecies=closest_songs.kneighbors([[0.17561023, 0.12503634, 0.16991208, 0.49357194, 0.03326787]])\n",
    "[dict(artist_info.iloc[row]) for  row in range(len(indecies[0]))]\n"
   ]
  }
 ],
 "metadata": {
  "kernelspec": {
   "display_name": "Python 3",
   "language": "python",
   "name": "python3"
  },
  "language_info": {
   "codemirror_mode": {
    "name": "ipython",
    "version": 3
   },
   "file_extension": ".py",
   "mimetype": "text/x-python",
   "name": "python",
   "nbconvert_exporter": "python",
   "pygments_lexer": "ipython3",
   "version": "3.5.6"
  }
 },
 "nbformat": 4,
 "nbformat_minor": 2
}
